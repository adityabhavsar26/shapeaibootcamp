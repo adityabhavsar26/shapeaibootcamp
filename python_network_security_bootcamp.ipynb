{
  "nbformat": 4,
  "nbformat_minor": 0,
  "metadata": {
    "colab": {
      "name": "python_network_security.ipynb",
      "provenance": []
    },
    "kernelspec": {
      "name": "python3",
      "display_name": "Python 3"
    },
    "language_info": {
      "name": "python"
    }
  },
  "cells": [
    {
      "cell_type": "markdown",
      "metadata": {
        "id": "vAKrK1uAq99X"
      },
      "source": [
        "## Shap AI Bootcamp: Python and Network Security"
      ]
    },
    {
      "cell_type": "markdown",
      "metadata": {
        "id": "xx6-CDajrN9S"
      },
      "source": [
        "### 1. Write a program in python to generate MD5 of string data."
      ]
    },
    {
      "cell_type": "code",
      "metadata": {
        "colab": {
          "base_uri": "https://localhost:8080/"
        },
        "id": "8xTE-k0aq81W",
        "outputId": "3708a2ea-bed1-4d30-d0f5-de0e02b14416"
      },
      "source": [
        "import hashlib\n",
        "\n",
        "#working of MD5 (byte - byte)\n",
        "# encoding string using md5 hash function \n",
        "result = hashlib.md5(b'Aditya')\n",
        "#the equivalent byte value.\n",
        "print(\"The byte equivalent of hash is : \", end=\"\")\n",
        "print(result.digest())"
      ],
      "execution_count": 2,
      "outputs": [
        {
          "output_type": "stream",
          "text": [
            "The byte equivalent of hash is : b'\\x0b\\xfb3\\x16\\x11\\xcb\\xcfB\\x0b8\\xf7>\\x196\\xf86'\n"
          ],
          "name": "stdout"
        }
      ]
    },
    {
      "cell_type": "code",
      "metadata": {
        "colab": {
          "base_uri": "https://localhost:8080/"
        },
        "id": "n9RA5sYOtRKm",
        "outputId": "5386d76e-95f8-4d0d-a9c9-3c13bc356d98"
      },
      "source": [
        "#working of MD5 (string - hexadecimal)\n",
        "string_to_hash = \"Aditya\"  #initializing string\n",
        "#encoding string using encode() then sending to md5()\n",
        "result = hashlib.md5(string_to_hash.encode())\n",
        "#the equivalent hexadecimal value.\n",
        "print(\"The hexadecimal equivalent of hash is : \", end =\"\")\n",
        "print(result.hexdigest())"
      ],
      "execution_count": 4,
      "outputs": [
        {
          "output_type": "stream",
          "text": [
            "The hexadecimal equivalent of hash is : 0bfb331611cbcf420b38f73e1936f836\n"
          ],
          "name": "stdout"
        }
      ]
    },
    {
      "cell_type": "markdown",
      "metadata": {
        "id": "Ch6Rzc90tVIN"
      },
      "source": [
        "### 2. Write a program in python to generate hashes of string data using 3 algorithms from hashlib."
      ]
    },
    {
      "cell_type": "code",
      "metadata": {
        "colab": {
          "base_uri": "https://localhost:8080/"
        },
        "id": "etQM9CdKuO5O",
        "outputId": "201aaac5-c634-4140-9337-ab7e50c54d3c"
      },
      "source": [
        "hashlib.algorithms_guaranteed"
      ],
      "execution_count": 6,
      "outputs": [
        {
          "output_type": "execute_result",
          "data": {
            "text/plain": [
              "{'blake2b',\n",
              " 'blake2s',\n",
              " 'md5',\n",
              " 'sha1',\n",
              " 'sha224',\n",
              " 'sha256',\n",
              " 'sha384',\n",
              " 'sha3_224',\n",
              " 'sha3_256',\n",
              " 'sha3_384',\n",
              " 'sha3_512',\n",
              " 'sha512',\n",
              " 'shake_128',\n",
              " 'shake_256'}"
            ]
          },
          "metadata": {
            "tags": []
          },
          "execution_count": 6
        }
      ]
    },
    {
      "cell_type": "code",
      "metadata": {
        "colab": {
          "base_uri": "https://localhost:8080/"
        },
        "id": "AYEQS-m0wmHX",
        "outputId": "367771ab-a2af-4778-81eb-ea0b96a15d26"
      },
      "source": [
        "#MD5\n",
        "md5 = hashlib.md5()\n",
        "md5.update(b\"Aditya\")\n",
        "print(\"Algorithm1:MD5:\", md5.hexdigest())"
      ],
      "execution_count": 7,
      "outputs": [
        {
          "output_type": "stream",
          "text": [
            "Algorithm1:MD5: 0bfb331611cbcf420b38f73e1936f836\n"
          ],
          "name": "stdout"
        }
      ]
    },
    {
      "cell_type": "code",
      "metadata": {
        "colab": {
          "base_uri": "https://localhost:8080/"
        },
        "id": "h-yB3g2QvVxm",
        "outputId": "e693b139-d58b-415e-b5a3-1c75fd710368"
      },
      "source": [
        "#SHA1\n",
        "sha1 = hashlib.sha1()\n",
        "sha1.update(b\"Aditya\")\n",
        "print(\"Algorithm2:SHA1:\", sha1.hexdigest())"
      ],
      "execution_count": 8,
      "outputs": [
        {
          "output_type": "stream",
          "text": [
            "Algorithm2:SHA1: 0234c08fae6dc3c9e05ee02a2c1a804bbf29bc44\n"
          ],
          "name": "stdout"
        }
      ]
    },
    {
      "cell_type": "code",
      "metadata": {
        "colab": {
          "base_uri": "https://localhost:8080/"
        },
        "id": "Sa6ZZAL6xN64",
        "outputId": "de4779ea-d6ba-4152-9294-4aa6a50f4aee"
      },
      "source": [
        "#SHA256\n",
        "sha = hashlib.sha256()\n",
        "sha.update(b\"Aditya\")\n",
        "print(\"Algorithm3:SHA256:\", sha.hexdigest())"
      ],
      "execution_count": 9,
      "outputs": [
        {
          "output_type": "stream",
          "text": [
            "Algorithm3:SHA256: 6610283559143a5456d5c3b7877f5db5b1c7af60585112e82d1834d72205b158\n"
          ],
          "name": "stdout"
        }
      ]
    }
  ]
}